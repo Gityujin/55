{
  "cells": [
    {
      "cell_type": "markdown",
      "metadata": {
        "id": "view-in-github",
        "colab_type": "text"
      },
      "source": [
        "<a href=\"https://colab.research.google.com/github/Gityujin/55/blob/main/Untitled0.ipynb\" target=\"_parent\"><img src=\"https://colab.research.google.com/assets/colab-badge.svg\" alt=\"Open In Colab\"/></a>"
      ]
    },
    {
      "cell_type": "markdown",
      "source": [
        "# 새 섹션"
      ],
      "metadata": {
        "id": "6E2isy7biLps"
      }
    },
    {
      "cell_type": "code",
      "source": [
        "import openpyxl\n",
        "import tkinter as tk\n",
        "from tkinter import ttk\n",
        "\n",
        "def compare_books():\n",
        "    # 두 개의 엑셀 파일 불러오기\n",
        "    workbook1 = openpyxl.load_workbook('c:/project/신간 소설 통합.xlsx')\n",
        "    workbook2 = openpyxl.load_workbook('c:/project/중고 소설 베스트.xlsx')\n",
        "\n",
        "    # 파일1에서 각 책의 제목과 랭킹, 가격 정보를 추출하여 딕셔너리로 저장\n",
        "    book1_data = {}\n",
        "    for row in workbook1.active.iter_rows(min_row=2, values_only=True):\n",
        "        title = row[1]  # 제목 정보는 두 번째 열(index 1)에 위치한다고 가정\n",
        "        book1_data[title] = (row[0], row[5])  # 랭킹은 첫 번째 열(index 0), 가격은 여섯 번째 열(index 5)\n",
        "\n",
        "    # 파일2에서 각 책의 제목과 랭킹, 가격 정보를 추출하여 파일1과 비교\n",
        "    comparison_results = []\n",
        "    for row in workbook2.active.iter_rows(min_row=2, values_only=True):\n",
        "        title = row[1]  # 제목 정보는 두 번째 열(index 1)에 위치한다고 가정\n",
        "        if title in book1_data:  # 파일1에도 같은 제목의 책이 있다면 비교 수행\n",
        "            ranking1, price1 = book1_data[title]\n",
        "            ranking2 = row[0]  # 랭킹 정보는 첫 번째 열(index 0)에 위치한다고 가정\n",
        "            price2 = row[5]  # 가격 정보는 여섯 번째 열(index 5)에 위치한다고 가정\n",
        "\n",
        "            # 비교 결과를 추가\n",
        "            comparison_results.append([title, ranking1, ranking2, price1, price2])\n",
        "\n",
        "    # 결과 반환\n",
        "    return comparison_results\n",
        "\n",
        "def display_results():\n",
        "    # Tkinter 윈도우 생성\n",
        "    root = tk.Tk()\n",
        "    root.title(\"Comparison Results\")\n",
        "\n",
        "    # 비교 결과 테이블 생성\n",
        "    tree = ttk.Treeview(root, columns=(\"신간랭킹\", \"중고랭킹\", \"신간가격\", \"중고가격\"))\n",
        "    tree.heading(\"#0\", text=\"제목\")\n",
        "    tree.heading(\"신간랭킹\", text=\"신간랭킹\")\n",
        "    tree.heading(\"중고랭킹\", text=\"중고랭킹\")\n",
        "    tree.heading(\"신간가격\", text=\"신간가격\")\n",
        "    tree.heading(\"중고가격\", text=\"중고가격\")\n",
        "\n",
        "    # 비교 결과를 가져와서 테이블에 추가\n",
        "    comparison_results = compare_books()\n",
        "    for result in comparison_results:\n",
        "        tree.insert(\"\", \"end\", text=result[0], values=(result[1], result[2], result[3], result[4]))\n",
        "\n",
        "    # 테이블 위치 설정\n",
        "    tree.pack(expand=True, fill=\"both\")\n",
        "\n",
        "    # Tkinter 루프 시작\n",
        "    root.mainloop()\n",
        "\n",
        "# 결과 출력 함수 호출\n",
        "display_results()"
      ],
      "metadata": {
        "id": "eIJpm6AQ3Vzy"
      },
      "execution_count": null,
      "outputs": []
    },
    {
      "cell_type": "code",
      "source": [
        "import openpyxl\n",
        "import tkinter as tk\n",
        "from tkinter import ttk\n",
        "\n",
        "def compare_books():\n",
        "    # 두 개의 엑셀 파일 불러오기\n",
        "    workbook1 = openpyxl.load_workbook('c:/project/신간 소설 통합.xlsx')\n",
        "    workbook2 = openpyxl.load_workbook('c:/project/중고 소설 베스트.xlsx')\n",
        "\n",
        "    # 파일1에서 각 책의 제목과 랭킹, 가격 정보를 추출하여 딕셔너리로 저장\n",
        "    book1_data = {}\n",
        "    for row in workbook1.active.iter_rows(min_row=2, values_only=True):\n",
        "        title = row[1]  # 제목 정보는 두 번째 열(index 1)에 위치한다고 가정\n",
        "        book1_data[title] = (row[0], row[5])  # 랭킹은 첫 번째 열(index 0), 가격은 여섯 번째 열(index 5)\n",
        "\n",
        "    # 파일2에서 각 책의 제목과 랭킹, 가격 정보를 추출하여 파일1과 비교\n",
        "    comparison_results = []\n",
        "    for row in workbook2.active.iter_rows(min_row=2, values_only=True):\n",
        "        title = row[1]  # 제목 정보는 두 번째 열(index 1)에 위치한다고 가정\n",
        "        if title in book1_data:  # 파일1에도 같은 제목의 책이 있다면 비교 수행\n",
        "            ranking1, price1 = book1_data[title]\n",
        "            ranking2 = row[0]  # 랭킹 정보는 첫 번째 열(index 0)에 위치한다고 가정\n",
        "            price2 = row[5]  # 가격 정보는 여섯 번째 열(index 5)에 위치한다고 가정\n",
        "\n",
        "            # 비교 결과를 추가\n",
        "            comparison_results.append([title, ranking1, ranking2, price1, price2])\n",
        "\n",
        "    # 결과 반환\n",
        "    return comparison_results\n",
        "\n",
        "def display_results():\n",
        "    # Tkinter 윈도우 생성\n",
        "    root = tk.Tk()\n",
        "    root.title(\"Comparison Results\")\n",
        "\n",
        "    # 비교 결과 테이블 생성\n",
        "    tree = ttk.Treeview(root, columns=(\"Ranking1\", \"Ranking2\", \"Price1\", \"Price2\"))\n",
        "    tree.heading(\"#0\", text=\"Title\")\n",
        "    tree.heading(\"Ranking1\", text=\"Ranking 1\")\n",
        "    tree.heading(\"Ranking2\", text=\"Ranking 2\")\n",
        "    tree.heading(\"Price1\", text=\"Price 1\")\n",
        "    tree.heading(\"Price2\", text=\"Price 2\")\n",
        "\n",
        "    # 비교 결과를 가져와서 테이블에 추가\n",
        "    comparison_results = compare_books()\n",
        "    for result in comparison_results:\n",
        "        tree.insert(\"\", \"end\", text=result[0], values=(result[1], result[2], result[3], result[4]))\n",
        "\n",
        "    # 테이블 위치 설정\n",
        "    tree.pack(expand=True, fill=\"both\")\n",
        "\n",
        "    # Tkinter 루프 시작\n",
        "    root.mainloop()\n",
        "\n",
        "# 결과 출력 함수 호출\n",
        "display_results()"
      ],
      "metadata": {
        "id": "VUHMggmooceA"
      },
      "execution_count": null,
      "outputs": []
    },
    {
      "cell_type": "markdown",
      "source": [
        "베스트셀러 카테고리 추가"
      ],
      "metadata": {
        "id": "VV8q3R-5lAFp"
      }
    },
    {
      "cell_type": "code",
      "source": [
        "import openpyxl\n",
        "import tkinter as tk\n",
        "from tkinter import ttk\n",
        "\n",
        "def compare_books():\n",
        "    # 두 개의 엑셀 파일 불러오기\n",
        "    workbook1 = openpyxl.load_workbook('c:/project/신간 소설 통합.xlsx')\n",
        "    workbook2 = openpyxl.load_workbook('c:/project/중고카테고리추가.xlsx')\n",
        "\n",
        "    # 파일1에서 각 책의 제목과 랭킹, 가격 정보를 추출하여 딕셔너리로 저장\n",
        "    book1_data = {}\n",
        "    for row in workbook1.active.iter_rows(min_row=2, values_only=True):\n",
        "        title = row[1]  # 제목 정보는 두 번째 열(index 1)에 위치한다고 가정\n",
        "        book1_data[title] = (row[0], row[5])  # 랭킹은 첫 번째 열(index 0), 가격은 여섯 번째 열(index 5)\n",
        "\n",
        "    # 파일2에서 각 책의 제목과 랭킹, 가격 정보를 추출하여 파일1과 비교\n",
        "    comparison_results = []\n",
        "    for row in workbook2.active.iter_rows(min_row=2, values_only=True):\n",
        "        title = row[1]  # 제목 정보는 두 번째 열(index 1)에 위치한다고 가정\n",
        "        if title in book1_data:  # 파일1에도 같은 제목의 책이 있다면 비교 수행\n",
        "            ranking1, price1 = book1_data[title]\n",
        "            ranking2 = row[0]  # 랭킹 정보는 첫 번째 열(index 0)에 위치한다고 가정\n",
        "            price2 = row[5]  # 가격 정보는 여섯 번째 열(index 5)에 위치한다고 가정\n",
        "            categories = row[6]\n",
        "\n",
        "            # 비교 결과를 추가\n",
        "            comparison_results.append([title, ranking1, ranking2, price1, price2, categories])\n",
        "\n",
        "    # 결과 반환\n",
        "    return comparison_results\n",
        "\n",
        "def display_results():\n",
        "    # Tkinter 윈도우 생성\n",
        "    root = tk.Tk()\n",
        "    root.title(\"Comparison Results\")\n",
        "\n",
        "    # 비교 결과 테이블 생성\n",
        "    tree = ttk.Treeview(root, columns=(\"신간랭킹\", \"중고랭킹\", \"신간가격\", \"중고가격\",\"카테고리\"))\n",
        "    tree.heading(\"#0\", text=\"제목\")\n",
        "    tree.heading(\"신간랭킹\", text=\"신간랭킹\")\n",
        "    tree.heading(\"중고랭킹\", text=\"중고랭킹\")\n",
        "    tree.heading(\"신간가격\", text=\"신간가격\")\n",
        "    tree.heading(\"중고가격\", text=\"중고가격\")\n",
        "    tree.heading(\"카테고리\", text=\"카테고리\")\n",
        "\n",
        "    # 비교 결과를 가져와서 테이블에 추가\n",
        "    comparison_results = compare_books()\n",
        "    for result in comparison_results:\n",
        "        tree.insert(\"\", \"end\", text=result[0], values=(result[1], result[2], result[3], result[4], result[5]))\n",
        "\n",
        "    # 테이블 위치 설정\n",
        "    tree.pack(expand=True, fill=\"both\")\n",
        "\n",
        "    # Tkinter 루프 시작\n",
        "    root.mainloop()\n",
        "\n",
        "# 결과 출력 함수 호출\n",
        "display_results()"
      ],
      "metadata": {
        "id": "MF-Nt5bpk-1y"
      },
      "execution_count": null,
      "outputs": []
    }
  ],
  "metadata": {
    "colab": {
      "provenance": [],
      "authorship_tag": "ABX9TyO9A8uVdvus0935SkgbNzUC",
      "include_colab_link": true
    },
    "kernelspec": {
      "display_name": "Python 3",
      "name": "python3"
    },
    "language_info": {
      "name": "python"
    }
  },
  "nbformat": 4,
  "nbformat_minor": 0
}