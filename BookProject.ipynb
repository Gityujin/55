{
  "nbformat": 4,
  "nbformat_minor": 0,
  "metadata": {
    "colab": {
      "provenance": [],
      "mount_file_id": "1YyKDoUQBalciqBJSEl9mQEpLZFTNpvW6",
      "authorship_tag": "ABX9TyO6C1O2fwSdsNoMkVIIiacA",
      "include_colab_link": true
    },
    "kernelspec": {
      "name": "python3",
      "display_name": "Python 3"
    },
    "language_info": {
      "name": "python"
    }
  },
  "cells": [
    {
      "cell_type": "markdown",
      "metadata": {
        "id": "view-in-github",
        "colab_type": "text"
      },
      "source": [
        "<a href=\"https://colab.research.google.com/github/Gityujin/55/blob/main/BookProject.ipynb\" target=\"_parent\"><img src=\"https://colab.research.google.com/assets/colab-badge.svg\" alt=\"Open In Colab\"/></a>"
      ]
    },
    {
      "cell_type": "code",
      "source": [
        "import bs4\n",
        "import urllib.request\n",
        "import pandas as pd\n",
        "\n",
        "data = {'랭킹': [], '제목': [], '작가': [], '출판사': [], '출판일': [], '가격': []}\n",
        "url_base = \"https://www.yes24.com/Product/Category/MonthWeekBestSeller?pageNumber=\"\n",
        "url_suffix = \"&pageSize=24&categoryNumber=001001046&type=week&saleYear=2024\"\n",
        "pageNumber = 1\n",
        "total = 0\n",
        "\n",
        "while True:\n",
        "    bookUrl = url_base + str(pageNumber) + url_suffix\n",
        "    pageNumber += 1\n",
        "    htmlObject = urllib.request.urlopen(bookUrl)\n",
        "    webPage = htmlObject.read()\n",
        "    bsObject = bs4.BeautifulSoup(webPage, 'html.parser')\n",
        "    tag = bsObject.find('ul', {'class': 'sGLi tp_book tp_chkG tp_best tp_list'})\n",
        "    all_books = tag.findAll('div', {'class': 'item_info'})\n",
        "\n",
        "    if total < 240:\n",
        "\n",
        "        for book in all_books:\n",
        "            total += 1\n",
        "            name_tag = book.find(\"a\", {\"class\": \"gd_name\"})\n",
        "            bookName = name_tag.text.strip()\n",
        "\n",
        "            author_tag = book.find(\"span\", {\"class\": \"info_auth\"})\n",
        "            bookAuth = author_tag.text.strip()\n",
        "\n",
        "            pub_tag = book.find(\"span\", {\"class\": \"info_pub\"})\n",
        "            bookPub = pub_tag.text.strip()\n",
        "\n",
        "            date_tag = book.find(\"span\", {\"class\": \"info_date\"})\n",
        "            bookDate = date_tag.text.strip()\n",
        "\n",
        "            price_tag = book.find(\"em\", {\"class\": \"yes_b\"})\n",
        "            bookPrice = price_tag.text.strip()\n",
        "\n",
        "            data['랭킹'].append(total)\n",
        "            data['제목'].append(bookName)\n",
        "            data['작가'].append(bookAuth)\n",
        "            data['출판사'].append(bookPub)\n",
        "            data['출판일'].append(bookDate)\n",
        "            data['가격'].append(bookPrice)\n",
        "\n",
        "    if total == 240:\n",
        "        break\n",
        "\n",
        "book_df = pd.DataFrame(data)\n",
        "book_df['가격대'] = pd.cut(pd.to_numeric(book_df['가격'].str.replace(',', '').str.replace('원', '')),\n",
        "                           bins=[0, 10000, 15000, float('inf')],\n",
        "                           labels=['10000원 이하', '10000원 초과 15000원 이하', '15000원 초과'])\n",
        "\n",
        "book_df.to_excel(\"Book_project.xlsx\", index = False, encoding = 'utf-8')\n",
        "print(\"데이터를 엑셀 파일로 저장했습니다.\")"
      ],
      "metadata": {
        "colab": {
          "base_uri": "https://localhost:8080/"
        },
        "id": "Cg1PSsRndjsk",
        "outputId": "c6ce849d-9623-45dd-b923-35299ef999c9"
      },
      "execution_count": 20,
      "outputs": [
        {
          "output_type": "stream",
          "name": "stdout",
          "text": [
            "데이터를 엑셀 파일로 저장했습니다.\n"
          ]
        },
        {
          "output_type": "stream",
          "name": "stderr",
          "text": [
            "/usr/local/lib/python3.10/dist-packages/pandas/util/_decorators.py:211: FutureWarning: the 'encoding' keyword is deprecated and will be removed in a future version. Please take steps to stop the use of 'encoding'\n",
            "  return func(*args, **kwargs)\n"
          ]
        }
      ]
    }
  ]
}